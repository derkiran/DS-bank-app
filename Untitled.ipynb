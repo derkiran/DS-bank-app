{
 "cells": [
  {
   "cell_type": "code",
   "execution_count": 16,
   "metadata": {},
   "outputs": [
    {
     "name": "stdout",
     "output_type": "stream",
     "text": [
      "2019-02-07 14:01:55\n"
     ]
    }
   ],
   "source": [
    "import datetime\n",
    "st = datetime.datetime.fromtimestamp(ts).strftime('%Y-%m-%d %H:%M:%S')\n",
    "print (st)"
   ]
  },
  {
   "cell_type": "code",
   "execution_count": 21,
   "metadata": {},
   "outputs": [],
   "source": [
    "\n",
    "\n",
    "\n",
    "class Bank:\n",
    "    def __init__(self, name):\n",
    "        self.name = name\n",
    "        self.accounts = {}\n",
    "        self.transactions = []\n",
    "\n",
    "    def open_account(self, account):\n",
    "        assert isinstance(account, app.Account), 'Account should be an app.Account'\n",
    "        assert account.number not in self.accounts, 'Account number ' + str(account.number) + ' already taken!'\n",
    "        self.accounts[account.number] = account\n",
    "        return account\n",
    "\n",
    "    def add_transaction(self, *, sender, recipient, subject, amount):\n",
    "        assert sender.number in self.accounts, 'Sender has no account yet!'\n",
    "        assert recipient.number in self.accounts, 'Recipient has no account yet!'\n",
    "        assert sender.has_funds_for(amount), 'Account has not enough funds'\n",
    "\n",
    "        self.transactions.append(app.Transaction(sender=sender.number, recipient=recipient.number, subject=subject,\n",
    "                                                 amount=amount))\n",
    "        sender.subtract_from_balance(amount)\n",
    "        recipient.add_to_balance(amount)\n",
    "        return self.transactions[-1]\n"
   ]
  },
  {
   "cell_type": "code",
   "execution_count": 18,
   "metadata": {},
   "outputs": [],
   "source": [
    "import datetime\n",
    "\n",
    "\n",
    "class Transaction:\n",
    "    def __init__(self, *, sender, recipient, subject, amount):\n",
    "        assert isinstance(sender, int), 'Sender needs to be an integer'\n",
    "        assert isinstance(recipient, int), 'Recipient needs to be an integer'\n",
    "        assert isinstance(amount, float), 'Amount needs to be a float'\n",
    "        assert amount > 0, 'Amount needs to be greater than 0'\n",
    "        self.sender = sender\n",
    "        self.recipient = recipient\n",
    "        self.subject = subject\n",
    "        self.amount = amount\n",
    "        self.st = datetime.datetime.fromtimestamp(ts).strftime('%Y-%m-%d %H:%M:%S')\n",
    "\n",
    "    def info(self):\n",
    "        # 'From 1 to 2: Test transaction - 10.0 €'\n",
    "        return f'DATE: {self.st} From {self.sender} to {self.recipient}: {self.subject} - {self.amount} €'"
   ]
  },
  {
   "cell_type": "code",
   "execution_count": 22,
   "metadata": {},
   "outputs": [
    {
     "ename": "ModuleNotFoundError",
     "evalue": "No module named 'app'",
     "output_type": "error",
     "traceback": [
      "\u001b[0;31m---------------------------------------------------------------------------\u001b[0m",
      "\u001b[0;31mModuleNotFoundError\u001b[0m                       Traceback (most recent call last)",
      "\u001b[0;32m<ipython-input-22-f4feaebc0381>\u001b[0m in \u001b[0;36m<module>\u001b[0;34m\u001b[0m\n\u001b[0;32m----> 1\u001b[0;31m \u001b[0;32mfrom\u001b[0m \u001b[0mapp\u001b[0m\u001b[0;34m.\u001b[0m\u001b[0mbank\u001b[0m \u001b[0;32mimport\u001b[0m \u001b[0mBank\u001b[0m\u001b[0;34m\u001b[0m\u001b[0;34m\u001b[0m\u001b[0m\n\u001b[0m\u001b[1;32m      2\u001b[0m \u001b[0;32mfrom\u001b[0m \u001b[0mapp\u001b[0m\u001b[0;34m.\u001b[0m\u001b[0maccount\u001b[0m \u001b[0;32mimport\u001b[0m \u001b[0mAccount\u001b[0m\u001b[0;34m\u001b[0m\u001b[0;34m\u001b[0m\u001b[0m\n\u001b[1;32m      3\u001b[0m \u001b[0;32mfrom\u001b[0m \u001b[0mapp\u001b[0m\u001b[0;34m.\u001b[0m\u001b[0mtransaction\u001b[0m \u001b[0;32mimport\u001b[0m \u001b[0mTransaction\u001b[0m\u001b[0;34m\u001b[0m\u001b[0;34m\u001b[0m\u001b[0m\n",
      "\u001b[0;31mModuleNotFoundError\u001b[0m: No module named 'app'"
     ]
    }
   ],
   "source": [
    "from app.bank import Bank\n",
    "from app.account import Account\n",
    "from app.transaction import Transaction"
   ]
  },
  {
   "cell_type": "code",
   "execution_count": null,
   "metadata": {},
   "outputs": [],
   "source": []
  }
 ],
 "metadata": {
  "kernelspec": {
   "display_name": "Python 3",
   "language": "python",
   "name": "python3"
  },
  "language_info": {
   "codemirror_mode": {
    "name": "ipython",
    "version": 3
   },
   "file_extension": ".py",
   "mimetype": "text/x-python",
   "name": "python",
   "nbconvert_exporter": "python",
   "pygments_lexer": "ipython3",
   "version": "3.7.1"
  }
 },
 "nbformat": 4,
 "nbformat_minor": 2
}
