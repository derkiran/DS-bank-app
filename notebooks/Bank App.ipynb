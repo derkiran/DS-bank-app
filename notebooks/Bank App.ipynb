{
 "cells": [
  {
   "cell_type": "code",
   "execution_count": 1,
   "metadata": {},
   "outputs": [],
   "source": [
    "%load_ext autoreload\n",
    "%autoreload 2"
   ]
  },
  {
   "cell_type": "code",
   "execution_count": 2,
   "metadata": {},
   "outputs": [],
   "source": [
    "import datetime\n",
    "from pandas.plotting import scatter_matrix\n",
    "\n",
    "from app import Bank\n",
    "import app.utils"
   ]
  },
  {
   "cell_type": "code",
   "execution_count": 3,
   "metadata": {},
   "outputs": [
    {
     "name": "stdout",
     "output_type": "stream",
     "text": [
      "Bank: DKB\n"
     ]
    }
   ],
   "source": [
    "bank = Bank('DKB')\n",
    "print(f'Bank: {bank.name}')"
   ]
  },
  {
   "cell_type": "markdown",
   "metadata": {},
   "source": [
    "## Accounts"
   ]
  },
  {
   "cell_type": "code",
   "execution_count": 4,
   "metadata": {},
   "outputs": [
    {
     "data": {
      "text/html": [
       "<div>\n",
       "<style scoped>\n",
       "    .dataframe tbody tr th:only-of-type {\n",
       "        vertical-align: middle;\n",
       "    }\n",
       "\n",
       "    .dataframe tbody tr th {\n",
       "        vertical-align: top;\n",
       "    }\n",
       "\n",
       "    .dataframe thead th {\n",
       "        text-align: right;\n",
       "    }\n",
       "</style>\n",
       "<table border=\"1\" class=\"dataframe\">\n",
       "  <thead>\n",
       "    <tr style=\"text-align: right;\">\n",
       "      <th></th>\n",
       "      <th>id</th>\n",
       "      <th>firstname</th>\n",
       "      <th>lastname</th>\n",
       "      <th>balance</th>\n",
       "    </tr>\n",
       "  </thead>\n",
       "  <tbody>\n",
       "  </tbody>\n",
       "</table>\n",
       "</div>"
      ],
      "text/plain": [
       "Empty DataFrame\n",
       "Columns: [id, firstname, lastname, balance]\n",
       "Index: []"
      ]
     },
     "execution_count": 4,
     "metadata": {},
     "output_type": "execute_result"
    }
   ],
   "source": [
    "bank.accounts"
   ]
  },
  {
   "cell_type": "markdown",
   "metadata": {},
   "source": [
    "## Transactions"
   ]
  },
  {
   "cell_type": "code",
   "execution_count": 5,
   "metadata": {},
   "outputs": [
    {
     "data": {
      "text/html": [
       "<div>\n",
       "<style scoped>\n",
       "    .dataframe tbody tr th:only-of-type {\n",
       "        vertical-align: middle;\n",
       "    }\n",
       "\n",
       "    .dataframe tbody tr th {\n",
       "        vertical-align: top;\n",
       "    }\n",
       "\n",
       "    .dataframe thead th {\n",
       "        text-align: right;\n",
       "    }\n",
       "</style>\n",
       "<table border=\"1\" class=\"dataframe\">\n",
       "  <thead>\n",
       "    <tr style=\"text-align: right;\">\n",
       "      <th></th>\n",
       "      <th>id</th>\n",
       "      <th>sender_id</th>\n",
       "      <th>recipient_id</th>\n",
       "      <th>amount</th>\n",
       "      <th>subject</th>\n",
       "      <th>category</th>\n",
       "      <th>timestamp</th>\n",
       "    </tr>\n",
       "  </thead>\n",
       "  <tbody>\n",
       "  </tbody>\n",
       "</table>\n",
       "</div>"
      ],
      "text/plain": [
       "Empty DataFrame\n",
       "Columns: [id, sender_id, recipient_id, amount, subject, category, timestamp]\n",
       "Index: []"
      ]
     },
     "execution_count": 5,
     "metadata": {},
     "output_type": "execute_result"
    }
   ],
   "source": [
    "bank.transactions"
   ]
  },
  {
   "cell_type": "markdown",
   "metadata": {},
   "source": [
    "## Open Accounts"
   ]
  },
  {
   "cell_type": "code",
   "execution_count": 6,
   "metadata": {},
   "outputs": [
    {
     "data": {
      "text/html": [
       "<div>\n",
       "<style scoped>\n",
       "    .dataframe tbody tr th:only-of-type {\n",
       "        vertical-align: middle;\n",
       "    }\n",
       "\n",
       "    .dataframe tbody tr th {\n",
       "        vertical-align: top;\n",
       "    }\n",
       "\n",
       "    .dataframe thead th {\n",
       "        text-align: right;\n",
       "    }\n",
       "</style>\n",
       "<table border=\"1\" class=\"dataframe\">\n",
       "  <thead>\n",
       "    <tr style=\"text-align: right;\">\n",
       "      <th></th>\n",
       "      <th>id</th>\n",
       "      <th>firstname</th>\n",
       "      <th>lastname</th>\n",
       "      <th>balance</th>\n",
       "    </tr>\n",
       "  </thead>\n",
       "  <tbody>\n",
       "    <tr>\n",
       "      <th>0</th>\n",
       "      <td>1</td>\n",
       "      <td>Dalia</td>\n",
       "      <td>Das</td>\n",
       "      <td>0.0</td>\n",
       "    </tr>\n",
       "    <tr>\n",
       "      <th>1</th>\n",
       "      <td>2</td>\n",
       "      <td>Matthias</td>\n",
       "      <td>Rettenmeier</td>\n",
       "      <td>0.0</td>\n",
       "    </tr>\n",
       "    <tr>\n",
       "      <th>2</th>\n",
       "      <td>3</td>\n",
       "      <td>Manuel</td>\n",
       "      <td>Wiedenmann</td>\n",
       "      <td>0.0</td>\n",
       "    </tr>\n",
       "  </tbody>\n",
       "</table>\n",
       "</div>"
      ],
      "text/plain": [
       "  id firstname     lastname  balance\n",
       "0  1     Dalia          Das      0.0\n",
       "1  2  Matthias  Rettenmeier      0.0\n",
       "2  3    Manuel   Wiedenmann      0.0"
      ]
     },
     "execution_count": 6,
     "metadata": {},
     "output_type": "execute_result"
    }
   ],
   "source": [
    "bank.open_account(account_id=1, firstname='Dalia', lastname='Das')\n",
    "bank.open_account(account_id=2, firstname='Matthias', lastname='Rettenmeier')\n",
    "bank.open_account(account_id=3, firstname='Manuel', lastname='Wiedenmann')"
   ]
  },
  {
   "cell_type": "markdown",
   "metadata": {},
   "source": [
    "## Add transactions"
   ]
  },
  {
   "cell_type": "code",
   "execution_count": 7,
   "metadata": {},
   "outputs": [
    {
     "data": {
      "text/html": [
       "<div>\n",
       "<style scoped>\n",
       "    .dataframe tbody tr th:only-of-type {\n",
       "        vertical-align: middle;\n",
       "    }\n",
       "\n",
       "    .dataframe tbody tr th {\n",
       "        vertical-align: top;\n",
       "    }\n",
       "\n",
       "    .dataframe thead th {\n",
       "        text-align: right;\n",
       "    }\n",
       "</style>\n",
       "<table border=\"1\" class=\"dataframe\">\n",
       "  <thead>\n",
       "    <tr style=\"text-align: right;\">\n",
       "      <th></th>\n",
       "      <th>id</th>\n",
       "      <th>sender_id</th>\n",
       "      <th>recipient_id</th>\n",
       "      <th>amount</th>\n",
       "      <th>subject</th>\n",
       "      <th>category</th>\n",
       "      <th>timestamp</th>\n",
       "    </tr>\n",
       "  </thead>\n",
       "  <tbody>\n",
       "    <tr>\n",
       "      <th>0</th>\n",
       "      <td>0</td>\n",
       "      <td>1</td>\n",
       "      <td>2</td>\n",
       "      <td>100.0</td>\n",
       "      <td>Mein Weltbild</td>\n",
       "      <td>Bücher</td>\n",
       "      <td>2019-02-11 12:46:39.848226</td>\n",
       "    </tr>\n",
       "  </tbody>\n",
       "</table>\n",
       "</div>"
      ],
      "text/plain": [
       "  id sender_id recipient_id  amount        subject category  \\\n",
       "0  0         1            2   100.0  Mein Weltbild   Bücher   \n",
       "\n",
       "                   timestamp  \n",
       "0 2019-02-11 12:46:39.848226  "
      ]
     },
     "execution_count": 7,
     "metadata": {},
     "output_type": "execute_result"
    }
   ],
   "source": [
    "bank.add_transaction(transaction_id=0,\n",
    "                     sender_id=1,\n",
    "                     recipient_id=2,\n",
    "                     subject='Mein Weltbild',\n",
    "                     amount=100.0,\n",
    "                     category='Bücher',\n",
    "                     timestamp=datetime.datetime.utcnow())"
   ]
  },
  {
   "cell_type": "code",
   "execution_count": 29,
   "metadata": {},
   "outputs": [
    {
     "data": {
      "text/html": [
       "<div>\n",
       "<style scoped>\n",
       "    .dataframe tbody tr th:only-of-type {\n",
       "        vertical-align: middle;\n",
       "    }\n",
       "\n",
       "    .dataframe tbody tr th {\n",
       "        vertical-align: top;\n",
       "    }\n",
       "\n",
       "    .dataframe thead th {\n",
       "        text-align: right;\n",
       "    }\n",
       "</style>\n",
       "<table border=\"1\" class=\"dataframe\">\n",
       "  <thead>\n",
       "    <tr style=\"text-align: right;\">\n",
       "      <th></th>\n",
       "      <th>id</th>\n",
       "      <th>sender_id</th>\n",
       "      <th>recipient_id</th>\n",
       "      <th>amount</th>\n",
       "      <th>subject</th>\n",
       "      <th>category</th>\n",
       "      <th>timestamp</th>\n",
       "      <th>tax_amount</th>\n",
       "    </tr>\n",
       "  </thead>\n",
       "  <tbody>\n",
       "    <tr>\n",
       "      <th>0</th>\n",
       "      <td>0</td>\n",
       "      <td>1</td>\n",
       "      <td>2</td>\n",
       "      <td>100.00</td>\n",
       "      <td>Mein Weltbild</td>\n",
       "      <td>Bücher</td>\n",
       "      <td>2019-02-11 12:46:39.848226</td>\n",
       "      <td>19.0</td>\n",
       "    </tr>\n",
       "    <tr>\n",
       "      <th>1</th>\n",
       "      <td>1</td>\n",
       "      <td>1</td>\n",
       "      <td>2</td>\n",
       "      <td>26.99</td>\n",
       "      <td>Data Science für Dummies</td>\n",
       "      <td>Bücher</td>\n",
       "      <td>2018-04-11 13:03:18.835006</td>\n",
       "      <td>NaN</td>\n",
       "    </tr>\n",
       "    <tr>\n",
       "      <th>2</th>\n",
       "      <td>2</td>\n",
       "      <td>1</td>\n",
       "      <td>3</td>\n",
       "      <td>19.99</td>\n",
       "      <td>Python programmieren lernen für Dummies</td>\n",
       "      <td>Bücher</td>\n",
       "      <td>2018-03-08 13:03:18.836633</td>\n",
       "      <td>NaN</td>\n",
       "    </tr>\n",
       "    <tr>\n",
       "      <th>3</th>\n",
       "      <td>3</td>\n",
       "      <td>3</td>\n",
       "      <td>1</td>\n",
       "      <td>20.00</td>\n",
       "      <td>Mittagessen</td>\n",
       "      <td>Essen</td>\n",
       "      <td>2018-03-03 13:03:18.836645</td>\n",
       "      <td>NaN</td>\n",
       "    </tr>\n",
       "    <tr>\n",
       "      <th>4</th>\n",
       "      <td>4</td>\n",
       "      <td>2</td>\n",
       "      <td>3</td>\n",
       "      <td>40.00</td>\n",
       "      <td>Drinks</td>\n",
       "      <td>Lifestyle</td>\n",
       "      <td>2018-03-11 13:03:18.836648</td>\n",
       "      <td>NaN</td>\n",
       "    </tr>\n",
       "  </tbody>\n",
       "</table>\n",
       "</div>"
      ],
      "text/plain": [
       "  id sender_id recipient_id  amount                                  subject  \\\n",
       "0  0         1            2  100.00                            Mein Weltbild   \n",
       "1  1         1            2   26.99                 Data Science für Dummies   \n",
       "2  2         1            3   19.99  Python programmieren lernen für Dummies   \n",
       "3  3         3            1   20.00                              Mittagessen   \n",
       "4  4         2            3   40.00                                   Drinks   \n",
       "\n",
       "    category                  timestamp  tax_amount  \n",
       "0     Bücher 2019-02-11 12:46:39.848226        19.0  \n",
       "1     Bücher 2018-04-11 13:03:18.835006         NaN  \n",
       "2     Bücher 2018-03-08 13:03:18.836633         NaN  \n",
       "3      Essen 2018-03-03 13:03:18.836645         NaN  \n",
       "4  Lifestyle 2018-03-11 13:03:18.836648         NaN  "
      ]
     },
     "execution_count": 29,
     "metadata": {},
     "output_type": "execute_result"
    }
   ],
   "source": [
    "transactions = [\n",
    "    {'transaction_id': 1,\n",
    "     'sender_id': 1,\n",
    "     'recipient_id': 2,\n",
    "     'subject': 'Data Science für Dummies',\n",
    "     'amount': 26.99,\n",
    "     'category': 'Bücher',\n",
    "     'timestamp': app.utils.random_timestamp()},\n",
    "    {'transaction_id': 2,\n",
    "     'sender_id': 1,\n",
    "     'recipient_id': 3,\n",
    "     'subject': 'Python programmieren lernen für Dummies',\n",
    "     'amount': 19.99,\n",
    "     'category': 'Bücher',\n",
    "     'timestamp': app.utils.random_timestamp()},\n",
    "    {'transaction_id': 3,\n",
    "     'sender_id': 3,\n",
    "     'recipient_id': 1,\n",
    "     'subject': 'Mittagessen',\n",
    "     'amount': 20.,\n",
    "     'category': 'Essen',\n",
    "     'timestamp': app.utils.random_timestamp()},\n",
    "    {'transaction_id': 4,\n",
    "     'sender_id': 2,\n",
    "     'recipient_id': 3,\n",
    "     'subject': 'Drinks',\n",
    "     'amount': 40.,\n",
    "     'category': 'Lifestyle',\n",
    "     'timestamp': app.utils.random_timestamp()},\n",
    "]\n",
    "\n",
    "for transaction in transactions:\n",
    "    bank.add_transaction(**transaction)\n",
    "    \n",
    "bank.transactions"
   ]
  },
  {
   "cell_type": "code",
   "execution_count": 31,
   "metadata": {},
   "outputs": [
    {
     "data": {
      "text/html": [
       "<div>\n",
       "<style scoped>\n",
       "    .dataframe tbody tr th:only-of-type {\n",
       "        vertical-align: middle;\n",
       "    }\n",
       "\n",
       "    .dataframe tbody tr th {\n",
       "        vertical-align: top;\n",
       "    }\n",
       "\n",
       "    .dataframe thead th {\n",
       "        text-align: right;\n",
       "    }\n",
       "</style>\n",
       "<table border=\"1\" class=\"dataframe\">\n",
       "  <thead>\n",
       "    <tr style=\"text-align: right;\">\n",
       "      <th></th>\n",
       "      <th>amount</th>\n",
       "      <th>tax_amount</th>\n",
       "    </tr>\n",
       "  </thead>\n",
       "  <tbody>\n",
       "    <tr>\n",
       "      <th>count</th>\n",
       "      <td>5.000000</td>\n",
       "      <td>1.0</td>\n",
       "    </tr>\n",
       "    <tr>\n",
       "      <th>mean</th>\n",
       "      <td>41.396000</td>\n",
       "      <td>19.0</td>\n",
       "    </tr>\n",
       "    <tr>\n",
       "      <th>std</th>\n",
       "      <td>33.763575</td>\n",
       "      <td>NaN</td>\n",
       "    </tr>\n",
       "    <tr>\n",
       "      <th>min</th>\n",
       "      <td>19.990000</td>\n",
       "      <td>19.0</td>\n",
       "    </tr>\n",
       "    <tr>\n",
       "      <th>25%</th>\n",
       "      <td>20.000000</td>\n",
       "      <td>19.0</td>\n",
       "    </tr>\n",
       "    <tr>\n",
       "      <th>50%</th>\n",
       "      <td>26.990000</td>\n",
       "      <td>19.0</td>\n",
       "    </tr>\n",
       "    <tr>\n",
       "      <th>75%</th>\n",
       "      <td>40.000000</td>\n",
       "      <td>19.0</td>\n",
       "    </tr>\n",
       "    <tr>\n",
       "      <th>max</th>\n",
       "      <td>100.000000</td>\n",
       "      <td>19.0</td>\n",
       "    </tr>\n",
       "  </tbody>\n",
       "</table>\n",
       "</div>"
      ],
      "text/plain": [
       "           amount  tax_amount\n",
       "count    5.000000         1.0\n",
       "mean    41.396000        19.0\n",
       "std     33.763575         NaN\n",
       "min     19.990000        19.0\n",
       "25%     20.000000        19.0\n",
       "50%     26.990000        19.0\n",
       "75%     40.000000        19.0\n",
       "max    100.000000        19.0"
      ]
     },
     "execution_count": 31,
     "metadata": {},
     "output_type": "execute_result"
    }
   ],
   "source": [
    "bank.transactions.describe()"
   ]
  },
  {
   "cell_type": "markdown",
   "metadata": {},
   "source": [
    "## .groupby() + agg()"
   ]
  },
  {
   "cell_type": "code",
   "execution_count": 32,
   "metadata": {},
   "outputs": [],
   "source": [
    "grouped_by_category = bank.transactions.groupby('category')"
   ]
  },
  {
   "cell_type": "code",
   "execution_count": 61,
   "metadata": {},
   "outputs": [
    {
     "data": {
      "text/html": [
       "<div>\n",
       "<style scoped>\n",
       "    .dataframe tbody tr th:only-of-type {\n",
       "        vertical-align: middle;\n",
       "    }\n",
       "\n",
       "    .dataframe tbody tr th {\n",
       "        vertical-align: top;\n",
       "    }\n",
       "\n",
       "    .dataframe thead th {\n",
       "        text-align: right;\n",
       "    }\n",
       "</style>\n",
       "<table border=\"1\" class=\"dataframe\">\n",
       "  <thead>\n",
       "    <tr style=\"text-align: right;\">\n",
       "      <th></th>\n",
       "      <th>id</th>\n",
       "    </tr>\n",
       "    <tr>\n",
       "      <th>category</th>\n",
       "      <th></th>\n",
       "    </tr>\n",
       "  </thead>\n",
       "  <tbody>\n",
       "    <tr>\n",
       "      <th>Bücher</th>\n",
       "      <td>3</td>\n",
       "    </tr>\n",
       "    <tr>\n",
       "      <th>Essen</th>\n",
       "      <td>1</td>\n",
       "    </tr>\n",
       "    <tr>\n",
       "      <th>Lifestyle</th>\n",
       "      <td>1</td>\n",
       "    </tr>\n",
       "  </tbody>\n",
       "</table>\n",
       "</div>"
      ],
      "text/plain": [
       "           id\n",
       "category     \n",
       "Bücher      3\n",
       "Essen       1\n",
       "Lifestyle   1"
      ]
     },
     "execution_count": 61,
     "metadata": {},
     "output_type": "execute_result"
    }
   ],
   "source": [
    "grouped_by_category.agg({'id': 'count'})"
   ]
  },
  {
   "cell_type": "code",
   "execution_count": 12,
   "metadata": {},
   "outputs": [
    {
     "data": {
      "text/html": [
       "<div>\n",
       "<style scoped>\n",
       "    .dataframe tbody tr th:only-of-type {\n",
       "        vertical-align: middle;\n",
       "    }\n",
       "\n",
       "    .dataframe tbody tr th {\n",
       "        vertical-align: top;\n",
       "    }\n",
       "\n",
       "    .dataframe thead th {\n",
       "        text-align: right;\n",
       "    }\n",
       "</style>\n",
       "<table border=\"1\" class=\"dataframe\">\n",
       "  <thead>\n",
       "    <tr style=\"text-align: right;\">\n",
       "      <th></th>\n",
       "      <th>amount</th>\n",
       "    </tr>\n",
       "    <tr>\n",
       "      <th>category</th>\n",
       "      <th></th>\n",
       "    </tr>\n",
       "  </thead>\n",
       "  <tbody>\n",
       "    <tr>\n",
       "      <th>Bücher</th>\n",
       "      <td>100.0</td>\n",
       "    </tr>\n",
       "  </tbody>\n",
       "</table>\n",
       "</div>"
      ],
      "text/plain": [
       "          amount\n",
       "category        \n",
       "Bücher     100.0"
      ]
     },
     "execution_count": 12,
     "metadata": {},
     "output_type": "execute_result"
    }
   ],
   "source": [
    "grouped_by_category.agg({'amount': 'sum'})"
   ]
  },
  {
   "cell_type": "code",
   "execution_count": 34,
   "metadata": {},
   "outputs": [
    {
     "data": {
      "text/html": [
       "<div>\n",
       "<style scoped>\n",
       "    .dataframe tbody tr th:only-of-type {\n",
       "        vertical-align: middle;\n",
       "    }\n",
       "\n",
       "    .dataframe tbody tr th {\n",
       "        vertical-align: top;\n",
       "    }\n",
       "\n",
       "    .dataframe thead th {\n",
       "        text-align: right;\n",
       "    }\n",
       "</style>\n",
       "<table border=\"1\" class=\"dataframe\">\n",
       "  <thead>\n",
       "    <tr style=\"text-align: right;\">\n",
       "      <th></th>\n",
       "      <th>amount</th>\n",
       "    </tr>\n",
       "    <tr>\n",
       "      <th>category</th>\n",
       "      <th></th>\n",
       "    </tr>\n",
       "  </thead>\n",
       "  <tbody>\n",
       "    <tr>\n",
       "      <th>Bücher</th>\n",
       "      <td>100.0</td>\n",
       "    </tr>\n",
       "    <tr>\n",
       "      <th>Essen</th>\n",
       "      <td>20.0</td>\n",
       "    </tr>\n",
       "    <tr>\n",
       "      <th>Lifestyle</th>\n",
       "      <td>40.0</td>\n",
       "    </tr>\n",
       "  </tbody>\n",
       "</table>\n",
       "</div>"
      ],
      "text/plain": [
       "           amount\n",
       "category         \n",
       "Bücher      100.0\n",
       "Essen        20.0\n",
       "Lifestyle    40.0"
      ]
     },
     "execution_count": 34,
     "metadata": {},
     "output_type": "execute_result"
    }
   ],
   "source": [
    "grouped_by_category.agg({'amount': 'max'})"
   ]
  },
  {
   "cell_type": "code",
   "execution_count": 35,
   "metadata": {},
   "outputs": [
    {
     "data": {
      "text/html": [
       "<div>\n",
       "<style scoped>\n",
       "    .dataframe tbody tr th:only-of-type {\n",
       "        vertical-align: middle;\n",
       "    }\n",
       "\n",
       "    .dataframe tbody tr th {\n",
       "        vertical-align: top;\n",
       "    }\n",
       "\n",
       "    .dataframe thead th {\n",
       "        text-align: right;\n",
       "    }\n",
       "</style>\n",
       "<table border=\"1\" class=\"dataframe\">\n",
       "  <thead>\n",
       "    <tr style=\"text-align: right;\">\n",
       "      <th></th>\n",
       "      <th>amount</th>\n",
       "    </tr>\n",
       "    <tr>\n",
       "      <th>category</th>\n",
       "      <th></th>\n",
       "    </tr>\n",
       "  </thead>\n",
       "  <tbody>\n",
       "    <tr>\n",
       "      <th>Bücher</th>\n",
       "      <td>19.99</td>\n",
       "    </tr>\n",
       "    <tr>\n",
       "      <th>Essen</th>\n",
       "      <td>20.00</td>\n",
       "    </tr>\n",
       "    <tr>\n",
       "      <th>Lifestyle</th>\n",
       "      <td>40.00</td>\n",
       "    </tr>\n",
       "  </tbody>\n",
       "</table>\n",
       "</div>"
      ],
      "text/plain": [
       "           amount\n",
       "category         \n",
       "Bücher      19.99\n",
       "Essen       20.00\n",
       "Lifestyle   40.00"
      ]
     },
     "execution_count": 35,
     "metadata": {},
     "output_type": "execute_result"
    }
   ],
   "source": [
    "grouped_by_category.agg({'amount': 'min'})"
   ]
  },
  {
   "cell_type": "markdown",
   "metadata": {},
   "source": [
    "### Tasks\n",
    "\n",
    "- Group by sender_id\n",
    "- Group by recipient_id\n"
   ]
  },
  {
   "cell_type": "markdown",
   "metadata": {},
   "source": [
    "## Cleanup"
   ]
  },
  {
   "cell_type": "code",
   "execution_count": 26,
   "metadata": {},
   "outputs": [
    {
     "data": {
      "text/html": [
       "<div>\n",
       "<style scoped>\n",
       "    .dataframe tbody tr th:only-of-type {\n",
       "        vertical-align: middle;\n",
       "    }\n",
       "\n",
       "    .dataframe tbody tr th {\n",
       "        vertical-align: top;\n",
       "    }\n",
       "\n",
       "    .dataframe thead th {\n",
       "        text-align: right;\n",
       "    }\n",
       "</style>\n",
       "<table border=\"1\" class=\"dataframe\">\n",
       "  <thead>\n",
       "    <tr style=\"text-align: right;\">\n",
       "      <th></th>\n",
       "      <th>id</th>\n",
       "      <th>sender_id</th>\n",
       "      <th>recipient_id</th>\n",
       "      <th>amount</th>\n",
       "      <th>subject</th>\n",
       "      <th>category</th>\n",
       "      <th>timestamp</th>\n",
       "      <th>tax_amount</th>\n",
       "    </tr>\n",
       "  </thead>\n",
       "  <tbody>\n",
       "    <tr>\n",
       "      <th>0</th>\n",
       "      <td>0</td>\n",
       "      <td>1</td>\n",
       "      <td>2</td>\n",
       "      <td>100.0</td>\n",
       "      <td>Mein Weltbild</td>\n",
       "      <td>Bücher</td>\n",
       "      <td>2019-02-11 12:46:39.848226</td>\n",
       "      <td>19.0</td>\n",
       "    </tr>\n",
       "  </tbody>\n",
       "</table>\n",
       "</div>"
      ],
      "text/plain": [
       "  id sender_id recipient_id  amount        subject category  \\\n",
       "0  0         1            2   100.0  Mein Weltbild   Bücher   \n",
       "\n",
       "                   timestamp  tax_amount  \n",
       "0 2019-02-11 12:46:39.848226        19.0  "
      ]
     },
     "execution_count": 26,
     "metadata": {},
     "output_type": "execute_result"
    }
   ],
   "source": [
    "bank.transactions"
   ]
  },
  {
   "cell_type": "code",
   "execution_count": 16,
   "metadata": {},
   "outputs": [],
   "source": [
    "bank.transactions.drop_duplicates('id', inplace=True)"
   ]
  },
  {
   "cell_type": "code",
   "execution_count": 17,
   "metadata": {},
   "outputs": [
    {
     "data": {
      "text/html": [
       "<div>\n",
       "<style scoped>\n",
       "    .dataframe tbody tr th:only-of-type {\n",
       "        vertical-align: middle;\n",
       "    }\n",
       "\n",
       "    .dataframe tbody tr th {\n",
       "        vertical-align: top;\n",
       "    }\n",
       "\n",
       "    .dataframe thead th {\n",
       "        text-align: right;\n",
       "    }\n",
       "</style>\n",
       "<table border=\"1\" class=\"dataframe\">\n",
       "  <thead>\n",
       "    <tr style=\"text-align: right;\">\n",
       "      <th></th>\n",
       "      <th>id</th>\n",
       "      <th>sender_id</th>\n",
       "      <th>recipient_id</th>\n",
       "      <th>amount</th>\n",
       "      <th>subject</th>\n",
       "      <th>category</th>\n",
       "      <th>timestamp</th>\n",
       "    </tr>\n",
       "  </thead>\n",
       "  <tbody>\n",
       "    <tr>\n",
       "      <th>0</th>\n",
       "      <td>0</td>\n",
       "      <td>1</td>\n",
       "      <td>2</td>\n",
       "      <td>100.0</td>\n",
       "      <td>Mein Weltbild</td>\n",
       "      <td>Bücher</td>\n",
       "      <td>2019-02-11 12:46:39.848226</td>\n",
       "    </tr>\n",
       "  </tbody>\n",
       "</table>\n",
       "</div>"
      ],
      "text/plain": [
       "  id sender_id recipient_id  amount        subject category  \\\n",
       "0  0         1            2   100.0  Mein Weltbild   Bücher   \n",
       "\n",
       "                   timestamp  \n",
       "0 2019-02-11 12:46:39.848226  "
      ]
     },
     "execution_count": 17,
     "metadata": {},
     "output_type": "execute_result"
    }
   ],
   "source": [
    "bank.transactions"
   ]
  },
  {
   "cell_type": "code",
   "execution_count": 18,
   "metadata": {},
   "outputs": [],
   "source": [
    "bank.transactions.sort_values('timestamp', inplace=True)"
   ]
  },
  {
   "cell_type": "code",
   "execution_count": 19,
   "metadata": {},
   "outputs": [
    {
     "data": {
      "text/html": [
       "<div>\n",
       "<style scoped>\n",
       "    .dataframe tbody tr th:only-of-type {\n",
       "        vertical-align: middle;\n",
       "    }\n",
       "\n",
       "    .dataframe tbody tr th {\n",
       "        vertical-align: top;\n",
       "    }\n",
       "\n",
       "    .dataframe thead th {\n",
       "        text-align: right;\n",
       "    }\n",
       "</style>\n",
       "<table border=\"1\" class=\"dataframe\">\n",
       "  <thead>\n",
       "    <tr style=\"text-align: right;\">\n",
       "      <th></th>\n",
       "      <th>id</th>\n",
       "      <th>sender_id</th>\n",
       "      <th>recipient_id</th>\n",
       "      <th>amount</th>\n",
       "      <th>subject</th>\n",
       "      <th>category</th>\n",
       "      <th>timestamp</th>\n",
       "    </tr>\n",
       "  </thead>\n",
       "  <tbody>\n",
       "    <tr>\n",
       "      <th>0</th>\n",
       "      <td>0</td>\n",
       "      <td>1</td>\n",
       "      <td>2</td>\n",
       "      <td>100.0</td>\n",
       "      <td>Mein Weltbild</td>\n",
       "      <td>Bücher</td>\n",
       "      <td>2019-02-11 12:46:39.848226</td>\n",
       "    </tr>\n",
       "  </tbody>\n",
       "</table>\n",
       "</div>"
      ],
      "text/plain": [
       "  id sender_id recipient_id  amount        subject category  \\\n",
       "0  0         1            2   100.0  Mein Weltbild   Bücher   \n",
       "\n",
       "                   timestamp  \n",
       "0 2019-02-11 12:46:39.848226  "
      ]
     },
     "execution_count": 19,
     "metadata": {},
     "output_type": "execute_result"
    }
   ],
   "source": [
    "bank.transactions"
   ]
  },
  {
   "cell_type": "markdown",
   "metadata": {},
   "source": [
    "## Add columns"
   ]
  },
  {
   "cell_type": "code",
   "execution_count": 51,
   "metadata": {},
   "outputs": [],
   "source": [
    "# Wir erstellen eine neue Column tax_amount indem wir die Column amount mit 0.19 multiplizieren\n",
    "bank.transactions['tax_amount'] = bank.transactions['amount'] * 0.19"
   ]
  },
  {
   "cell_type": "code",
   "execution_count": 52,
   "metadata": {},
   "outputs": [
    {
     "data": {
      "text/html": [
       "<div>\n",
       "<style scoped>\n",
       "    .dataframe tbody tr th:only-of-type {\n",
       "        vertical-align: middle;\n",
       "    }\n",
       "\n",
       "    .dataframe tbody tr th {\n",
       "        vertical-align: top;\n",
       "    }\n",
       "\n",
       "    .dataframe thead th {\n",
       "        text-align: right;\n",
       "    }\n",
       "</style>\n",
       "<table border=\"1\" class=\"dataframe\">\n",
       "  <thead>\n",
       "    <tr style=\"text-align: right;\">\n",
       "      <th></th>\n",
       "      <th>id</th>\n",
       "      <th>sender_id</th>\n",
       "      <th>recipient_id</th>\n",
       "      <th>amount</th>\n",
       "      <th>subject</th>\n",
       "      <th>category</th>\n",
       "      <th>timestamp</th>\n",
       "      <th>tax_amount</th>\n",
       "      <th>tax_rate</th>\n",
       "    </tr>\n",
       "  </thead>\n",
       "  <tbody>\n",
       "    <tr>\n",
       "      <th>0</th>\n",
       "      <td>0</td>\n",
       "      <td>1</td>\n",
       "      <td>2</td>\n",
       "      <td>100.00</td>\n",
       "      <td>Mein Weltbild</td>\n",
       "      <td>Bücher</td>\n",
       "      <td>2019-02-11 12:46:39.848226</td>\n",
       "      <td>19.0000</td>\n",
       "      <td>0.07</td>\n",
       "    </tr>\n",
       "    <tr>\n",
       "      <th>1</th>\n",
       "      <td>1</td>\n",
       "      <td>1</td>\n",
       "      <td>2</td>\n",
       "      <td>26.99</td>\n",
       "      <td>Data Science für Dummies</td>\n",
       "      <td>Bücher</td>\n",
       "      <td>2018-04-11 13:03:18.835006</td>\n",
       "      <td>5.1281</td>\n",
       "      <td>0.07</td>\n",
       "    </tr>\n",
       "    <tr>\n",
       "      <th>2</th>\n",
       "      <td>2</td>\n",
       "      <td>1</td>\n",
       "      <td>3</td>\n",
       "      <td>19.99</td>\n",
       "      <td>Python programmieren lernen für Dummies</td>\n",
       "      <td>Bücher</td>\n",
       "      <td>2018-03-08 13:03:18.836633</td>\n",
       "      <td>3.7981</td>\n",
       "      <td>0.07</td>\n",
       "    </tr>\n",
       "    <tr>\n",
       "      <th>3</th>\n",
       "      <td>3</td>\n",
       "      <td>3</td>\n",
       "      <td>1</td>\n",
       "      <td>20.00</td>\n",
       "      <td>Mittagessen</td>\n",
       "      <td>Essen</td>\n",
       "      <td>2018-03-03 13:03:18.836645</td>\n",
       "      <td>3.8000</td>\n",
       "      <td>0.07</td>\n",
       "    </tr>\n",
       "    <tr>\n",
       "      <th>4</th>\n",
       "      <td>4</td>\n",
       "      <td>2</td>\n",
       "      <td>3</td>\n",
       "      <td>40.00</td>\n",
       "      <td>Drinks</td>\n",
       "      <td>Lifestyle</td>\n",
       "      <td>2018-03-11 13:03:18.836648</td>\n",
       "      <td>7.6000</td>\n",
       "      <td>0.19</td>\n",
       "    </tr>\n",
       "  </tbody>\n",
       "</table>\n",
       "</div>"
      ],
      "text/plain": [
       "  id sender_id recipient_id  amount                                  subject  \\\n",
       "0  0         1            2  100.00                            Mein Weltbild   \n",
       "1  1         1            2   26.99                 Data Science für Dummies   \n",
       "2  2         1            3   19.99  Python programmieren lernen für Dummies   \n",
       "3  3         3            1   20.00                              Mittagessen   \n",
       "4  4         2            3   40.00                                   Drinks   \n",
       "\n",
       "    category                  timestamp  tax_amount  tax_rate  \n",
       "0     Bücher 2019-02-11 12:46:39.848226     19.0000      0.07  \n",
       "1     Bücher 2018-04-11 13:03:18.835006      5.1281      0.07  \n",
       "2     Bücher 2018-03-08 13:03:18.836633      3.7981      0.07  \n",
       "3      Essen 2018-03-03 13:03:18.836645      3.8000      0.07  \n",
       "4  Lifestyle 2018-03-11 13:03:18.836648      7.6000      0.19  "
      ]
     },
     "execution_count": 52,
     "metadata": {},
     "output_type": "execute_result"
    }
   ],
   "source": [
    "bank.transactions"
   ]
  },
  {
   "cell_type": "markdown",
   "metadata": {},
   "source": [
    "### Tasks\n",
    "\n",
    "- [.apply() docs](http://pandas.pydata.org/pandas-docs/version/0.24/reference/api/pandas.DataFrame.apply.html)"
   ]
  },
  {
   "cell_type": "code",
   "execution_count": 53,
   "metadata": {},
   "outputs": [],
   "source": [
    "# Unser dict zum Zuordnen der richtigen Steuersätze\n",
    "# Key ist die Category, der value ist der Stuersatz\n",
    "tax_rates = {\n",
    "    'Bücher': 0.07,\n",
    "    'Essen': 0.07,\n",
    "    'Lifestyle': 0.19,\n",
    "}\n",
    "\n",
    "# Erstelle eine neue Column tax_rate indem du auf der Column category .apply() aufrufst\n",
    "# Nutze das tax_rates dict in der lambda function von .apply()\n",
    "bank.transactions['tax_rate'] = bank.transactions['category'].apply(lambda x: tax_rates[x])"
   ]
  },
  {
   "cell_type": "code",
   "execution_count": 60,
   "metadata": {},
   "outputs": [
    {
     "data": {
      "text/plain": [
       "0       Bücher\n",
       "1       Bücher\n",
       "2       Bücher\n",
       "3        Essen\n",
       "4    Lifestyle\n",
       "Name: category, dtype: object"
      ]
     },
     "execution_count": 60,
     "metadata": {},
     "output_type": "execute_result"
    }
   ],
   "source": [
    "bank.transactions['category']"
   ]
  },
  {
   "cell_type": "code",
   "execution_count": 54,
   "metadata": {},
   "outputs": [
    {
     "data": {
      "text/html": [
       "<div>\n",
       "<style scoped>\n",
       "    .dataframe tbody tr th:only-of-type {\n",
       "        vertical-align: middle;\n",
       "    }\n",
       "\n",
       "    .dataframe tbody tr th {\n",
       "        vertical-align: top;\n",
       "    }\n",
       "\n",
       "    .dataframe thead th {\n",
       "        text-align: right;\n",
       "    }\n",
       "</style>\n",
       "<table border=\"1\" class=\"dataframe\">\n",
       "  <thead>\n",
       "    <tr style=\"text-align: right;\">\n",
       "      <th></th>\n",
       "      <th>id</th>\n",
       "      <th>sender_id</th>\n",
       "      <th>recipient_id</th>\n",
       "      <th>amount</th>\n",
       "      <th>subject</th>\n",
       "      <th>category</th>\n",
       "      <th>timestamp</th>\n",
       "      <th>tax_amount</th>\n",
       "      <th>tax_rate</th>\n",
       "    </tr>\n",
       "  </thead>\n",
       "  <tbody>\n",
       "    <tr>\n",
       "      <th>0</th>\n",
       "      <td>0</td>\n",
       "      <td>1</td>\n",
       "      <td>2</td>\n",
       "      <td>100.00</td>\n",
       "      <td>Mein Weltbild</td>\n",
       "      <td>Bücher</td>\n",
       "      <td>2019-02-11 12:46:39.848226</td>\n",
       "      <td>19.0000</td>\n",
       "      <td>0.07</td>\n",
       "    </tr>\n",
       "    <tr>\n",
       "      <th>1</th>\n",
       "      <td>1</td>\n",
       "      <td>1</td>\n",
       "      <td>2</td>\n",
       "      <td>26.99</td>\n",
       "      <td>Data Science für Dummies</td>\n",
       "      <td>Bücher</td>\n",
       "      <td>2018-04-11 13:03:18.835006</td>\n",
       "      <td>5.1281</td>\n",
       "      <td>0.07</td>\n",
       "    </tr>\n",
       "    <tr>\n",
       "      <th>2</th>\n",
       "      <td>2</td>\n",
       "      <td>1</td>\n",
       "      <td>3</td>\n",
       "      <td>19.99</td>\n",
       "      <td>Python programmieren lernen für Dummies</td>\n",
       "      <td>Bücher</td>\n",
       "      <td>2018-03-08 13:03:18.836633</td>\n",
       "      <td>3.7981</td>\n",
       "      <td>0.07</td>\n",
       "    </tr>\n",
       "    <tr>\n",
       "      <th>3</th>\n",
       "      <td>3</td>\n",
       "      <td>3</td>\n",
       "      <td>1</td>\n",
       "      <td>20.00</td>\n",
       "      <td>Mittagessen</td>\n",
       "      <td>Essen</td>\n",
       "      <td>2018-03-03 13:03:18.836645</td>\n",
       "      <td>3.8000</td>\n",
       "      <td>0.07</td>\n",
       "    </tr>\n",
       "    <tr>\n",
       "      <th>4</th>\n",
       "      <td>4</td>\n",
       "      <td>2</td>\n",
       "      <td>3</td>\n",
       "      <td>40.00</td>\n",
       "      <td>Drinks</td>\n",
       "      <td>Lifestyle</td>\n",
       "      <td>2018-03-11 13:03:18.836648</td>\n",
       "      <td>7.6000</td>\n",
       "      <td>0.19</td>\n",
       "    </tr>\n",
       "  </tbody>\n",
       "</table>\n",
       "</div>"
      ],
      "text/plain": [
       "  id sender_id recipient_id  amount                                  subject  \\\n",
       "0  0         1            2  100.00                            Mein Weltbild   \n",
       "1  1         1            2   26.99                 Data Science für Dummies   \n",
       "2  2         1            3   19.99  Python programmieren lernen für Dummies   \n",
       "3  3         3            1   20.00                              Mittagessen   \n",
       "4  4         2            3   40.00                                   Drinks   \n",
       "\n",
       "    category                  timestamp  tax_amount  tax_rate  \n",
       "0     Bücher 2019-02-11 12:46:39.848226     19.0000      0.07  \n",
       "1     Bücher 2018-04-11 13:03:18.835006      5.1281      0.07  \n",
       "2     Bücher 2018-03-08 13:03:18.836633      3.7981      0.07  \n",
       "3      Essen 2018-03-03 13:03:18.836645      3.8000      0.07  \n",
       "4  Lifestyle 2018-03-11 13:03:18.836648      7.6000      0.19  "
      ]
     },
     "execution_count": 54,
     "metadata": {},
     "output_type": "execute_result"
    }
   ],
   "source": [
    "bank.transactions"
   ]
  },
  {
   "cell_type": "code",
   "execution_count": 62,
   "metadata": {},
   "outputs": [],
   "source": [
    "# Berechne nun den richtigen tax_amount auf Grundlage der tax_rate Column\n",
    "bank.transactions['tax_amount'] = bank.transactions['amount']*bank.transactions['tax_rate']"
   ]
  },
  {
   "cell_type": "code",
   "execution_count": 59,
   "metadata": {},
   "outputs": [
    {
     "data": {
      "text/html": [
       "<div>\n",
       "<style scoped>\n",
       "    .dataframe tbody tr th:only-of-type {\n",
       "        vertical-align: middle;\n",
       "    }\n",
       "\n",
       "    .dataframe tbody tr th {\n",
       "        vertical-align: top;\n",
       "    }\n",
       "\n",
       "    .dataframe thead th {\n",
       "        text-align: right;\n",
       "    }\n",
       "</style>\n",
       "<table border=\"1\" class=\"dataframe\">\n",
       "  <thead>\n",
       "    <tr style=\"text-align: right;\">\n",
       "      <th></th>\n",
       "      <th>id</th>\n",
       "      <th>sender_id</th>\n",
       "      <th>recipient_id</th>\n",
       "      <th>amount</th>\n",
       "      <th>subject</th>\n",
       "      <th>category</th>\n",
       "      <th>timestamp</th>\n",
       "      <th>tax_amount</th>\n",
       "      <th>tax_rate</th>\n",
       "    </tr>\n",
       "  </thead>\n",
       "  <tbody>\n",
       "    <tr>\n",
       "      <th>0</th>\n",
       "      <td>0</td>\n",
       "      <td>1</td>\n",
       "      <td>2</td>\n",
       "      <td>100.00</td>\n",
       "      <td>Mein Weltbild</td>\n",
       "      <td>Bücher</td>\n",
       "      <td>2019-02-11 12:46:39.848226</td>\n",
       "      <td>7.0000</td>\n",
       "      <td>0.07</td>\n",
       "    </tr>\n",
       "    <tr>\n",
       "      <th>1</th>\n",
       "      <td>1</td>\n",
       "      <td>1</td>\n",
       "      <td>2</td>\n",
       "      <td>26.99</td>\n",
       "      <td>Data Science für Dummies</td>\n",
       "      <td>Bücher</td>\n",
       "      <td>2018-04-11 13:03:18.835006</td>\n",
       "      <td>1.8893</td>\n",
       "      <td>0.07</td>\n",
       "    </tr>\n",
       "    <tr>\n",
       "      <th>2</th>\n",
       "      <td>2</td>\n",
       "      <td>1</td>\n",
       "      <td>3</td>\n",
       "      <td>19.99</td>\n",
       "      <td>Python programmieren lernen für Dummies</td>\n",
       "      <td>Bücher</td>\n",
       "      <td>2018-03-08 13:03:18.836633</td>\n",
       "      <td>1.3993</td>\n",
       "      <td>0.07</td>\n",
       "    </tr>\n",
       "    <tr>\n",
       "      <th>3</th>\n",
       "      <td>3</td>\n",
       "      <td>3</td>\n",
       "      <td>1</td>\n",
       "      <td>20.00</td>\n",
       "      <td>Mittagessen</td>\n",
       "      <td>Essen</td>\n",
       "      <td>2018-03-03 13:03:18.836645</td>\n",
       "      <td>1.4000</td>\n",
       "      <td>0.07</td>\n",
       "    </tr>\n",
       "    <tr>\n",
       "      <th>4</th>\n",
       "      <td>4</td>\n",
       "      <td>2</td>\n",
       "      <td>3</td>\n",
       "      <td>40.00</td>\n",
       "      <td>Drinks</td>\n",
       "      <td>Lifestyle</td>\n",
       "      <td>2018-03-11 13:03:18.836648</td>\n",
       "      <td>7.6000</td>\n",
       "      <td>0.19</td>\n",
       "    </tr>\n",
       "  </tbody>\n",
       "</table>\n",
       "</div>"
      ],
      "text/plain": [
       "  id sender_id recipient_id  amount                                  subject  \\\n",
       "0  0         1            2  100.00                            Mein Weltbild   \n",
       "1  1         1            2   26.99                 Data Science für Dummies   \n",
       "2  2         1            3   19.99  Python programmieren lernen für Dummies   \n",
       "3  3         3            1   20.00                              Mittagessen   \n",
       "4  4         2            3   40.00                                   Drinks   \n",
       "\n",
       "    category                  timestamp  tax_amount  tax_rate  \n",
       "0     Bücher 2019-02-11 12:46:39.848226      7.0000      0.07  \n",
       "1     Bücher 2018-04-11 13:03:18.835006      1.8893      0.07  \n",
       "2     Bücher 2018-03-08 13:03:18.836633      1.3993      0.07  \n",
       "3      Essen 2018-03-03 13:03:18.836645      1.4000      0.07  \n",
       "4  Lifestyle 2018-03-11 13:03:18.836648      7.6000      0.19  "
      ]
     },
     "execution_count": 59,
     "metadata": {},
     "output_type": "execute_result"
    }
   ],
   "source": [
    "bank.transactions"
   ]
  },
  {
   "cell_type": "markdown",
   "metadata": {},
   "source": [
    "## Filter with .loc[]"
   ]
  },
  {
   "cell_type": "code",
   "execution_count": 63,
   "metadata": {},
   "outputs": [
    {
     "data": {
      "text/html": [
       "<div>\n",
       "<style scoped>\n",
       "    .dataframe tbody tr th:only-of-type {\n",
       "        vertical-align: middle;\n",
       "    }\n",
       "\n",
       "    .dataframe tbody tr th {\n",
       "        vertical-align: top;\n",
       "    }\n",
       "\n",
       "    .dataframe thead th {\n",
       "        text-align: right;\n",
       "    }\n",
       "</style>\n",
       "<table border=\"1\" class=\"dataframe\">\n",
       "  <thead>\n",
       "    <tr style=\"text-align: right;\">\n",
       "      <th></th>\n",
       "      <th>id</th>\n",
       "      <th>sender_id</th>\n",
       "      <th>recipient_id</th>\n",
       "      <th>amount</th>\n",
       "      <th>subject</th>\n",
       "      <th>category</th>\n",
       "      <th>timestamp</th>\n",
       "      <th>tax_amount</th>\n",
       "      <th>tax_rate</th>\n",
       "    </tr>\n",
       "  </thead>\n",
       "  <tbody>\n",
       "    <tr>\n",
       "      <th>0</th>\n",
       "      <td>0</td>\n",
       "      <td>1</td>\n",
       "      <td>2</td>\n",
       "      <td>100.00</td>\n",
       "      <td>Mein Weltbild</td>\n",
       "      <td>Bücher</td>\n",
       "      <td>2019-02-11 12:46:39.848226</td>\n",
       "      <td>7.0000</td>\n",
       "      <td>0.07</td>\n",
       "    </tr>\n",
       "    <tr>\n",
       "      <th>1</th>\n",
       "      <td>1</td>\n",
       "      <td>1</td>\n",
       "      <td>2</td>\n",
       "      <td>26.99</td>\n",
       "      <td>Data Science für Dummies</td>\n",
       "      <td>Bücher</td>\n",
       "      <td>2018-04-11 13:03:18.835006</td>\n",
       "      <td>1.8893</td>\n",
       "      <td>0.07</td>\n",
       "    </tr>\n",
       "    <tr>\n",
       "      <th>2</th>\n",
       "      <td>2</td>\n",
       "      <td>1</td>\n",
       "      <td>3</td>\n",
       "      <td>19.99</td>\n",
       "      <td>Python programmieren lernen für Dummies</td>\n",
       "      <td>Bücher</td>\n",
       "      <td>2018-03-08 13:03:18.836633</td>\n",
       "      <td>1.3993</td>\n",
       "      <td>0.07</td>\n",
       "    </tr>\n",
       "  </tbody>\n",
       "</table>\n",
       "</div>"
      ],
      "text/plain": [
       "  id sender_id recipient_id  amount                                  subject  \\\n",
       "0  0         1            2  100.00                            Mein Weltbild   \n",
       "1  1         1            2   26.99                 Data Science für Dummies   \n",
       "2  2         1            3   19.99  Python programmieren lernen für Dummies   \n",
       "\n",
       "  category                  timestamp  tax_amount  tax_rate  \n",
       "0   Bücher 2019-02-11 12:46:39.848226      7.0000      0.07  \n",
       "1   Bücher 2018-04-11 13:03:18.835006      1.8893      0.07  \n",
       "2   Bücher 2018-03-08 13:03:18.836633      1.3993      0.07  "
      ]
     },
     "execution_count": 63,
     "metadata": {},
     "output_type": "execute_result"
    }
   ],
   "source": [
    "# Filter alle Bücher\n",
    "bank.transactions.loc[bank.transactions['category'] == 'Bücher']"
   ]
  },
  {
   "cell_type": "code",
   "execution_count": 72,
   "metadata": {},
   "outputs": [
    {
     "data": {
      "text/html": [
       "<div>\n",
       "<style scoped>\n",
       "    .dataframe tbody tr th:only-of-type {\n",
       "        vertical-align: middle;\n",
       "    }\n",
       "\n",
       "    .dataframe tbody tr th {\n",
       "        vertical-align: top;\n",
       "    }\n",
       "\n",
       "    .dataframe thead th {\n",
       "        text-align: right;\n",
       "    }\n",
       "</style>\n",
       "<table border=\"1\" class=\"dataframe\">\n",
       "  <thead>\n",
       "    <tr style=\"text-align: right;\">\n",
       "      <th></th>\n",
       "      <th>id</th>\n",
       "      <th>sender_id</th>\n",
       "      <th>recipient_id</th>\n",
       "      <th>amount</th>\n",
       "      <th>subject</th>\n",
       "      <th>category</th>\n",
       "      <th>timestamp</th>\n",
       "      <th>tax_amount</th>\n",
       "      <th>tax_rate</th>\n",
       "    </tr>\n",
       "  </thead>\n",
       "  <tbody>\n",
       "    <tr>\n",
       "      <th>0</th>\n",
       "      <td>0</td>\n",
       "      <td>1</td>\n",
       "      <td>2</td>\n",
       "      <td>100.00</td>\n",
       "      <td>Mein Weltbild</td>\n",
       "      <td>Bücher</td>\n",
       "      <td>2019-02-11 12:46:39.848226</td>\n",
       "      <td>7.0000</td>\n",
       "      <td>0.07</td>\n",
       "    </tr>\n",
       "    <tr>\n",
       "      <th>1</th>\n",
       "      <td>1</td>\n",
       "      <td>1</td>\n",
       "      <td>2</td>\n",
       "      <td>26.99</td>\n",
       "      <td>Data Science für Dummies</td>\n",
       "      <td>Bücher</td>\n",
       "      <td>2018-04-11 13:03:18.835006</td>\n",
       "      <td>1.8893</td>\n",
       "      <td>0.07</td>\n",
       "    </tr>\n",
       "    <tr>\n",
       "      <th>4</th>\n",
       "      <td>4</td>\n",
       "      <td>2</td>\n",
       "      <td>3</td>\n",
       "      <td>40.00</td>\n",
       "      <td>Drinks</td>\n",
       "      <td>Lifestyle</td>\n",
       "      <td>2018-03-11 13:03:18.836648</td>\n",
       "      <td>7.6000</td>\n",
       "      <td>0.19</td>\n",
       "    </tr>\n",
       "  </tbody>\n",
       "</table>\n",
       "</div>"
      ],
      "text/plain": [
       "  id sender_id recipient_id  amount                   subject   category  \\\n",
       "0  0         1            2  100.00             Mein Weltbild     Bücher   \n",
       "1  1         1            2   26.99  Data Science für Dummies     Bücher   \n",
       "4  4         2            3   40.00                    Drinks  Lifestyle   \n",
       "\n",
       "                   timestamp  tax_amount  tax_rate  \n",
       "0 2019-02-11 12:46:39.848226      7.0000      0.07  \n",
       "1 2018-04-11 13:03:18.835006      1.8893      0.07  \n",
       "4 2018-03-11 13:03:18.836648      7.6000      0.19  "
      ]
     },
     "execution_count": 72,
     "metadata": {},
     "output_type": "execute_result"
    }
   ],
   "source": [
    "# Filter alle Transaktionen mit einem amount > 20\n",
    "\n",
    "bank.transactions.loc[bank.transactions['amount'] > 20]"
   ]
  },
  {
   "cell_type": "code",
   "execution_count": 68,
   "metadata": {},
   "outputs": [
    {
     "data": {
      "text/html": [
       "<div>\n",
       "<style scoped>\n",
       "    .dataframe tbody tr th:only-of-type {\n",
       "        vertical-align: middle;\n",
       "    }\n",
       "\n",
       "    .dataframe tbody tr th {\n",
       "        vertical-align: top;\n",
       "    }\n",
       "\n",
       "    .dataframe thead th {\n",
       "        text-align: right;\n",
       "    }\n",
       "</style>\n",
       "<table border=\"1\" class=\"dataframe\">\n",
       "  <thead>\n",
       "    <tr style=\"text-align: right;\">\n",
       "      <th></th>\n",
       "      <th>id</th>\n",
       "      <th>sender_id</th>\n",
       "      <th>recipient_id</th>\n",
       "      <th>amount</th>\n",
       "      <th>subject</th>\n",
       "      <th>category</th>\n",
       "      <th>timestamp</th>\n",
       "      <th>tax_amount</th>\n",
       "      <th>tax_rate</th>\n",
       "    </tr>\n",
       "  </thead>\n",
       "  <tbody>\n",
       "    <tr>\n",
       "      <th>0</th>\n",
       "      <td>0</td>\n",
       "      <td>1</td>\n",
       "      <td>2</td>\n",
       "      <td>100.00</td>\n",
       "      <td>Mein Weltbild</td>\n",
       "      <td>Bücher</td>\n",
       "      <td>2019-02-11 12:46:39.848226</td>\n",
       "      <td>7.0000</td>\n",
       "      <td>0.07</td>\n",
       "    </tr>\n",
       "    <tr>\n",
       "      <th>1</th>\n",
       "      <td>1</td>\n",
       "      <td>1</td>\n",
       "      <td>2</td>\n",
       "      <td>26.99</td>\n",
       "      <td>Data Science für Dummies</td>\n",
       "      <td>Bücher</td>\n",
       "      <td>2018-04-11 13:03:18.835006</td>\n",
       "      <td>1.8893</td>\n",
       "      <td>0.07</td>\n",
       "    </tr>\n",
       "  </tbody>\n",
       "</table>\n",
       "</div>"
      ],
      "text/plain": [
       "  id sender_id recipient_id  amount                   subject category  \\\n",
       "0  0         1            2  100.00             Mein Weltbild   Bücher   \n",
       "1  1         1            2   26.99  Data Science für Dummies   Bücher   \n",
       "\n",
       "                   timestamp  tax_amount  tax_rate  \n",
       "0 2019-02-11 12:46:39.848226      7.0000      0.07  \n",
       "1 2018-04-11 13:03:18.835006      1.8893      0.07  "
      ]
     },
     "execution_count": 68,
     "metadata": {},
     "output_type": "execute_result"
    }
   ],
   "source": [
    "# Filter alle Bücher mit einem amount > 20\n",
    "\n",
    "# Erst die Bücher\n",
    "books = bank.transactions.loc[bank.transactions['category'] == 'Bücher']\n",
    "\n",
    "# Dann den amount\n",
    "books_with_amount_greater_20 = books.loc[books['amount'] > 20]\n",
    "\n",
    "books_with_amount_greater_20"
   ]
  },
  {
   "cell_type": "code",
   "execution_count": 89,
   "metadata": {},
   "outputs": [
    {
     "data": {
      "text/html": [
       "<div>\n",
       "<style scoped>\n",
       "    .dataframe tbody tr th:only-of-type {\n",
       "        vertical-align: middle;\n",
       "    }\n",
       "\n",
       "    .dataframe tbody tr th {\n",
       "        vertical-align: top;\n",
       "    }\n",
       "\n",
       "    .dataframe thead th {\n",
       "        text-align: right;\n",
       "    }\n",
       "</style>\n",
       "<table border=\"1\" class=\"dataframe\">\n",
       "  <thead>\n",
       "    <tr style=\"text-align: right;\">\n",
       "      <th></th>\n",
       "      <th>id</th>\n",
       "      <th>sender_id</th>\n",
       "      <th>recipient_id</th>\n",
       "      <th>amount</th>\n",
       "      <th>subject</th>\n",
       "      <th>category</th>\n",
       "      <th>timestamp</th>\n",
       "      <th>tax_amount</th>\n",
       "      <th>tax_rate</th>\n",
       "    </tr>\n",
       "  </thead>\n",
       "  <tbody>\n",
       "    <tr>\n",
       "      <th>1</th>\n",
       "      <td>1</td>\n",
       "      <td>1</td>\n",
       "      <td>2</td>\n",
       "      <td>26.99</td>\n",
       "      <td>Data Science für Dummies</td>\n",
       "      <td>Bücher</td>\n",
       "      <td>2018-04-11 13:03:18.835006</td>\n",
       "      <td>1.8893</td>\n",
       "      <td>0.07</td>\n",
       "    </tr>\n",
       "    <tr>\n",
       "      <th>2</th>\n",
       "      <td>2</td>\n",
       "      <td>1</td>\n",
       "      <td>3</td>\n",
       "      <td>19.99</td>\n",
       "      <td>Python programmieren lernen für Dummies</td>\n",
       "      <td>Bücher</td>\n",
       "      <td>2018-03-08 13:03:18.836633</td>\n",
       "      <td>1.3993</td>\n",
       "      <td>0.07</td>\n",
       "    </tr>\n",
       "    <tr>\n",
       "      <th>3</th>\n",
       "      <td>3</td>\n",
       "      <td>3</td>\n",
       "      <td>1</td>\n",
       "      <td>20.00</td>\n",
       "      <td>Mittagessen</td>\n",
       "      <td>Essen</td>\n",
       "      <td>2018-03-03 13:03:18.836645</td>\n",
       "      <td>1.4000</td>\n",
       "      <td>0.07</td>\n",
       "    </tr>\n",
       "    <tr>\n",
       "      <th>4</th>\n",
       "      <td>4</td>\n",
       "      <td>2</td>\n",
       "      <td>3</td>\n",
       "      <td>40.00</td>\n",
       "      <td>Drinks</td>\n",
       "      <td>Lifestyle</td>\n",
       "      <td>2018-03-11 13:03:18.836648</td>\n",
       "      <td>7.6000</td>\n",
       "      <td>0.19</td>\n",
       "    </tr>\n",
       "  </tbody>\n",
       "</table>\n",
       "</div>"
      ],
      "text/plain": [
       "  id sender_id recipient_id  amount                                  subject  \\\n",
       "1  1         1            2   26.99                 Data Science für Dummies   \n",
       "2  2         1            3   19.99  Python programmieren lernen für Dummies   \n",
       "3  3         3            1   20.00                              Mittagessen   \n",
       "4  4         2            3   40.00                                   Drinks   \n",
       "\n",
       "    category                  timestamp  tax_amount  tax_rate  \n",
       "1     Bücher 2018-04-11 13:03:18.835006      1.8893      0.07  \n",
       "2     Bücher 2018-03-08 13:03:18.836633      1.3993      0.07  \n",
       "3      Essen 2018-03-03 13:03:18.836645      1.4000      0.07  \n",
       "4  Lifestyle 2018-03-11 13:03:18.836648      7.6000      0.19  "
      ]
     },
     "execution_count": 89,
     "metadata": {},
     "output_type": "execute_result"
    }
   ],
   "source": [
    "# Filter alle Transaktionen nach einem Datum (timestamp)\n",
    "timestamp = app.utils.random_timestamp()\n",
    "\n",
    "\n",
    "\n",
    "bank.transactions.loc[bank.transactions['timestamp'] < timestamp ]\n"
   ]
  },
  {
   "cell_type": "markdown",
   "metadata": {},
   "source": [
    "## Plots"
   ]
  },
  {
   "cell_type": "code",
   "execution_count": 91,
   "metadata": {},
   "outputs": [],
   "source": [
    "by_timestamp = bank.transactions.set_index('timestamp')"
   ]
  },
  {
   "cell_type": "code",
   "execution_count": 96,
   "metadata": {},
   "outputs": [
    {
     "data": {
      "text/plain": [
       "<matplotlib.axes._subplots.AxesSubplot at 0x112a01f60>"
      ]
     },
     "execution_count": 96,
     "metadata": {},
     "output_type": "execute_result"
    },
    {
     "data": {
      "image/png": "[encoded data removed]",
      "text/plain": [
       "<Figure size 432x288 with 1 Axes>"
      ]
     },
     "metadata": {
      "needs_background": "light"
     },
     "output_type": "display_data"
    }
   ],
   "source": [
    "by_timestamp.plot( )"
   ]
  },
  {
   "cell_type": "code",
   "execution_count": 98,
   "metadata": {},
   "outputs": [
    {
     "data": {
      "text/plain": [
       "<matplotlib.axes._subplots.AxesSubplot at 0x112c1f470>"
      ]
     },
     "execution_count": 98,
     "metadata": {},
     "output_type": "execute_result"
    },
    {
     "data": {
      "image/png": "[encoded data removed]",
      "text/plain": [
       "<Figure size 432x288 with 1 Axes>"
      ]
     },
     "metadata": {
      "needs_background": "light"
     },
     "output_type": "display_data"
    }
   ],
   "source": [
    "by_timestamp.plot.barh(stacked=True)"
   ]
  },
  {
   "cell_type": "code",
   "execution_count": null,
   "metadata": {},
   "outputs": [],
   "source": []
  }
 ],
 "metadata": {
  "kernelspec": {
   "display_name": "Python 3",
   "language": "python",
   "name": "python3"
  },
  "language_info": {
   "codemirror_mode": {
    "name": "ipython",
    "version": 3
   },
   "file_extension": ".py",
   "mimetype": "text/x-python",
   "name": "python",
   "nbconvert_exporter": "python",
   "pygments_lexer": "ipython3",
   "version": "3.6.8"
  }
 },
 "nbformat": 4,
 "nbformat_minor": 2
}
